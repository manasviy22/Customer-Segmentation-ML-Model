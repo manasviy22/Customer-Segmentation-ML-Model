{
 "cells": [
  {
   "cell_type": "markdown",
   "id": "a9996679",
   "metadata": {},
   "source": [
    "# Customer Purchase Behavior Analysis and Prediction\n",
    "This project demonstrates end-to-end data analysis and machine learning workflow to interpret customer purchase behavior, derive insights, and build predictive models."
   ]
  },
  {
   "cell_type": "code",
   "execution_count": null,
   "id": "9b6bb76d",
   "metadata": {},
   "outputs": [],
   "source": [
    "\n",
    "import pandas as pd\n",
    "import numpy as np\n",
    "import matplotlib.pyplot as plt\n",
    "import seaborn as sns\n",
    "\n",
    "from sklearn.model_selection import train_test_split\n",
    "from sklearn.preprocessing import StandardScaler\n",
    "from sklearn.linear_model import LogisticRegression\n",
    "from sklearn.ensemble import RandomForestClassifier\n",
    "from sklearn.cluster import KMeans\n",
    "from sklearn.metrics import accuracy_score, classification_report, confusion_matrix\n"
   ]
  },
  {
   "cell_type": "markdown",
   "id": "ed870ac4",
   "metadata": {},
   "source": [
    "## Load Dataset"
   ]
  },
  {
   "cell_type": "code",
   "execution_count": null,
   "id": "1a658d1c",
   "metadata": {},
   "outputs": [],
   "source": [
    "\n",
    "# Load dataset (generated earlier)\n",
    "df = pd.read_csv(\"ecommerce_data.csv\")\n",
    "\n",
    "# Show sample\n",
    "df.head()\n"
   ]
  },
  {
   "cell_type": "markdown",
   "id": "35a94775",
   "metadata": {},
   "source": [
    "## Data Exploration"
   ]
  },
  {
   "cell_type": "code",
   "execution_count": null,
   "id": "8b866bd8",
   "metadata": {},
   "outputs": [],
   "source": [
    "\n",
    "# Basic info\n",
    "print(df.info())\n",
    "print(df.describe())\n",
    "\n",
    "# Null check\n",
    "df.isnull().sum()\n"
   ]
  },
  {
   "cell_type": "markdown",
   "id": "397762f8",
   "metadata": {},
   "source": [
    "## Data Visualization"
   ]
  },
  {
   "cell_type": "code",
   "execution_count": null,
   "id": "8d480baf",
   "metadata": {},
   "outputs": [],
   "source": [
    "\n",
    "plt.figure(figsize=(6,4))\n",
    "sns.histplot(df['Amount'], bins=20, kde=True)\n",
    "plt.title(\"Distribution of Purchase Amount\")\n",
    "plt.show()\n",
    "\n",
    "plt.figure(figsize=(6,4))\n",
    "sns.countplot(x='RepeatCustomer', data=df)\n",
    "plt.title(\"Repeat Customer Distribution\")\n",
    "plt.show()\n"
   ]
  },
  {
   "cell_type": "markdown",
   "id": "939fdb51",
   "metadata": {},
   "source": [
    "## Feature Engineering"
   ]
  },
  {
   "cell_type": "code",
   "execution_count": null,
   "id": "cd202002",
   "metadata": {},
   "outputs": [],
   "source": [
    "\n",
    "# Convert categorical variable\n",
    "df['Gender'] = df['Gender'].map({'Male':0, 'Female':1})\n",
    "\n",
    "# Features and target\n",
    "X = df[['Age','Amount','Frequency','Recency','Gender']]\n",
    "y = df['RepeatCustomer']\n",
    "\n",
    "# Split data\n",
    "X_train, X_test, y_train, y_test = train_test_split(X, y, test_size=0.2, random_state=42)\n",
    "\n",
    "# Scaling\n",
    "scaler = StandardScaler()\n",
    "X_train_scaled = scaler.fit_transform(X_train)\n",
    "X_test_scaled = scaler.transform(X_test)\n"
   ]
  },
  {
   "cell_type": "markdown",
   "id": "5e184508",
   "metadata": {},
   "source": [
    "## Logistic Regression Model"
   ]
  },
  {
   "cell_type": "code",
   "execution_count": null,
   "id": "250fd4db",
   "metadata": {},
   "outputs": [],
   "source": [
    "\n",
    "log_model = LogisticRegression()\n",
    "log_model.fit(X_train_scaled, y_train)\n",
    "y_pred_log = log_model.predict(X_test_scaled)\n",
    "\n",
    "print(\"Accuracy:\", accuracy_score(y_test, y_pred_log))\n",
    "print(classification_report(y_test, y_pred_log))\n",
    "sns.heatmap(confusion_matrix(y_test, y_pred_log), annot=True, fmt='d')\n",
    "plt.title(\"Confusion Matrix - Logistic Regression\")\n",
    "plt.show()\n"
   ]
  },
  {
   "cell_type": "markdown",
   "id": "5d1569a2",
   "metadata": {},
   "source": [
    "## Random Forest Model"
   ]
  },
  {
   "cell_type": "code",
   "execution_count": null,
   "id": "07e16d91",
   "metadata": {},
   "outputs": [],
   "source": [
    "\n",
    "rf_model = RandomForestClassifier(n_estimators=100, random_state=42)\n",
    "rf_model.fit(X_train, y_train)\n",
    "y_pred_rf = rf_model.predict(X_test)\n",
    "\n",
    "print(\"Accuracy:\", accuracy_score(y_test, y_pred_rf))\n",
    "print(classification_report(y_test, y_pred_rf))\n",
    "sns.heatmap(confusion_matrix(y_test, y_pred_rf), annot=True, fmt='d')\n",
    "plt.title(\"Confusion Matrix - Random Forest\")\n",
    "plt.show()\n"
   ]
  },
  {
   "cell_type": "markdown",
   "id": "d9fbd902",
   "metadata": {},
   "source": [
    "## Customer Segmentation (KMeans Clustering)"
   ]
  },
  {
   "cell_type": "code",
   "execution_count": null,
   "id": "2f3abe6d",
   "metadata": {},
   "outputs": [],
   "source": [
    "\n",
    "kmeans = KMeans(n_clusters=3, random_state=42)\n",
    "clusters = kmeans.fit_predict(X[['Amount','Frequency','Recency']])\n",
    "df['Cluster'] = clusters\n",
    "\n",
    "plt.figure(figsize=(6,4))\n",
    "sns.scatterplot(x='Amount', y='Frequency', hue='Cluster', data=df, palette='Set1')\n",
    "plt.title(\"Customer Segments\")\n",
    "plt.show()\n",
    "\n",
    "df.groupby('Cluster').mean()\n"
   ]
  }
 ],
 "metadata": {},
 "nbformat": 4,
 "nbformat_minor": 5
}
